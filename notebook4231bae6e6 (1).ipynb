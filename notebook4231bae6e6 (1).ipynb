{
 "cells": [
  {
   "cell_type": "code",
   "execution_count": 1,
   "metadata": {
    "execution": {
     "iopub.execute_input": "2025-04-29T06:52:45.140524Z",
     "iopub.status.busy": "2025-04-29T06:52:45.139545Z",
     "iopub.status.idle": "2025-04-29T06:52:53.039423Z",
     "shell.execute_reply": "2025-04-29T06:52:53.038372Z",
     "shell.execute_reply.started": "2025-04-29T06:52:45.140496Z"
    },
    "trusted": true
   },
   "outputs": [
    {
     "name": "stdout",
     "output_type": "stream",
     "text": [
      "Reading package lists... Done\n",
      "Building dependency tree... Done\n",
      "Reading state information... Done\n",
      "tesseract-ocr is already the newest version (4.1.1-2.1build1).\n",
      "0 upgraded, 0 newly installed, 0 to remove and 122 not upgraded.\n",
      "Requirement already satisfied: pytesseract in /usr/local/lib/python3.11/dist-packages (0.3.13)\n",
      "Requirement already satisfied: opencv-python in /usr/local/lib/python3.11/dist-packages (4.11.0.86)\n",
      "Requirement already satisfied: packaging>=21.3 in /usr/local/lib/python3.11/dist-packages (from pytesseract) (24.2)\n",
      "Requirement already satisfied: Pillow>=8.0.0 in /usr/local/lib/python3.11/dist-packages (from pytesseract) (11.1.0)\n",
      "Requirement already satisfied: numpy>=1.21.2 in /usr/local/lib/python3.11/dist-packages (from opencv-python) (1.26.4)\n",
      "Requirement already satisfied: mkl_fft in /usr/local/lib/python3.11/dist-packages (from numpy>=1.21.2->opencv-python) (1.3.8)\n",
      "Requirement already satisfied: mkl_random in /usr/local/lib/python3.11/dist-packages (from numpy>=1.21.2->opencv-python) (1.2.4)\n",
      "Requirement already satisfied: mkl_umath in /usr/local/lib/python3.11/dist-packages (from numpy>=1.21.2->opencv-python) (0.1.1)\n",
      "Requirement already satisfied: mkl in /usr/local/lib/python3.11/dist-packages (from numpy>=1.21.2->opencv-python) (2025.1.0)\n",
      "Requirement already satisfied: tbb4py in /usr/local/lib/python3.11/dist-packages (from numpy>=1.21.2->opencv-python) (2022.1.0)\n",
      "Requirement already satisfied: mkl-service in /usr/local/lib/python3.11/dist-packages (from numpy>=1.21.2->opencv-python) (2.4.1)\n",
      "Requirement already satisfied: intel-openmp<2026,>=2024 in /usr/local/lib/python3.11/dist-packages (from mkl->numpy>=1.21.2->opencv-python) (2024.2.0)\n",
      "Requirement already satisfied: tbb==2022.* in /usr/local/lib/python3.11/dist-packages (from mkl->numpy>=1.21.2->opencv-python) (2022.1.0)\n",
      "Requirement already satisfied: tcmlib==1.* in /usr/local/lib/python3.11/dist-packages (from tbb==2022.*->mkl->numpy>=1.21.2->opencv-python) (1.2.0)\n",
      "Requirement already satisfied: intel-cmplr-lib-rt in /usr/local/lib/python3.11/dist-packages (from mkl_umath->numpy>=1.21.2->opencv-python) (2024.2.0)\n",
      "Requirement already satisfied: intel-cmplr-lib-ur==2024.2.0 in /usr/local/lib/python3.11/dist-packages (from intel-openmp<2026,>=2024->mkl->numpy>=1.21.2->opencv-python) (2024.2.0)\n"
     ]
    }
   ],
   "source": [
    "!apt-get install -y tesseract-ocr\n",
    "!pip install pytesseract opencv-python\n",
    "\n",
    "\n",
    "\n",
    "\n",
    "import pytesseract\n",
    "import cv2\n",
    "import os\n",
    "import re\n",
    "from PIL import Image\n",
    "\n"
   ]
  },
  {
   "cell_type": "code",
   "execution_count": 2,
   "metadata": {
    "execution": {
     "iopub.execute_input": "2025-04-29T06:52:53.041330Z",
     "iopub.status.busy": "2025-04-29T06:52:53.040826Z",
     "iopub.status.idle": "2025-04-29T06:52:53.047588Z",
     "shell.execute_reply": "2025-04-29T06:52:53.046523Z",
     "shell.execute_reply.started": "2025-04-29T06:52:53.041303Z"
    },
    "trusted": true
   },
   "outputs": [],
   "source": [
    "def extract_text(image_path):\n",
    "    # Load image using OpenCV\n",
    "    img = cv2.imread(image_path)\n",
    "    \n",
    "    # Optional: Preprocessing for better OCR accuracy\n",
    "    gray = cv2.cvtColor(img, cv2.COLOR_BGR2GRAY)\n",
    "    _, thresh = cv2.threshold(gray, 150, 255, cv2.THRESH_BINARY + cv2.THRESH_OTSU)\n",
    "    \n",
    "    # OCR using pytesseract\n",
    "    text = pytesseract.image_to_string(thresh)\n",
    "    \n",
    "    return text\n"
   ]
  },
  {
   "cell_type": "code",
   "execution_count": 3,
   "metadata": {
    "execution": {
     "iopub.execute_input": "2025-04-29T06:52:53.048972Z",
     "iopub.status.busy": "2025-04-29T06:52:53.048619Z",
     "iopub.status.idle": "2025-04-29T06:52:53.067411Z",
     "shell.execute_reply": "2025-04-29T06:52:53.066307Z",
     "shell.execute_reply.started": "2025-04-29T06:52:53.048941Z"
    },
    "trusted": true
   },
   "outputs": [],
   "source": [
    "def parse_lab_tests(text):\n",
    "    results = []\n",
    "    \n",
    "    pattern = r\"(?P<test_name>[\\w\\s\\(\\)\\-\\/]+)[\\s:]+(?P<test_value>\\d+\\.?\\d*)[\\s]*?(?P<unit>[a-zA-Z\\/%]*)[\\s]*?(?P<range>\\d+\\.?\\d*\\s*[-–]\\s*\\d+\\.?\\d*)?\"\n",
    "    \n",
    "    for match in re.finditer(pattern, text):\n",
    "        try:\n",
    "            test_name = match.group(\"test_name\").strip()\n",
    "            test_value = match.group(\"test_value\").strip()\n",
    "            test_unit = match.group(\"unit\").strip()\n",
    "            bio_reference_range = match.group(\"range\").strip() if match.group(\"range\") else \"\"\n",
    "\n",
    "            # Check out-of-range logic\n",
    "            lower, upper = None, None\n",
    "            if bio_reference_range:\n",
    "                parts = re.split(r\"[-–]\", bio_reference_range)\n",
    "                if len(parts) == 2:\n",
    "                    lower = float(parts[0].strip())\n",
    "                    upper = float(parts[1].strip())\n",
    "\n",
    "            out_of_range = False\n",
    "            if lower is not None and upper is not None:\n",
    "                val = float(test_value)\n",
    "                out_of_range = val < lower or val > upper\n",
    "\n",
    "            results.append({\n",
    "                \"test_name\": test_name,\n",
    "                \"test_value\": test_value,\n",
    "                \"bio_reference_range\": bio_reference_range,\n",
    "                \"test_unit\": test_unit,\n",
    "                \"lab_test_out_of_range\": out_of_range\n",
    "            })\n",
    "        except Exception:\n",
    "            continue\n",
    "\n",
    "    return {\n",
    "        \"is_success\": True,\n",
    "        \"data\": results\n",
    "    }\n"
   ]
  },
  {
   "cell_type": "code",
   "execution_count": 4,
   "metadata": {
    "execution": {
     "iopub.execute_input": "2025-04-29T06:52:53.069679Z",
     "iopub.status.busy": "2025-04-29T06:52:53.069378Z",
     "iopub.status.idle": "2025-04-29T06:52:55.045151Z",
     "shell.execute_reply": "2025-04-29T06:52:55.044019Z",
     "shell.execute_reply.started": "2025-04-29T06:52:53.069645Z"
    },
    "trusted": true
   },
   "outputs": [
    {
     "name": "stdout",
     "output_type": "stream",
     "text": [
      "{'data': [{'bio_reference_range': '',\n",
      "           'lab_test_out_of_range': False,\n",
      "           'test_name': 'EA) OF',\n",
      "           'test_unit': '',\n",
      "           'test_value': '7.90'},\n",
      "          {'bio_reference_range': '',\n",
      "           'lab_test_out_of_range': False,\n",
      "           'test_name': 'aol\\nMale',\n",
      "           'test_unit': '',\n",
      "           'test_value': '12.0'},\n",
      "          {'bio_reference_range': '',\n",
      "           'lab_test_out_of_range': False,\n",
      "           'test_name': '-',\n",
      "           'test_unit': '',\n",
      "           'test_value': '16.0'},\n",
      "          {'bio_reference_range': '',\n",
      "           'lab_test_out_of_range': False,\n",
      "           'test_name': 'Female',\n",
      "           'test_unit': '',\n",
      "           'test_value': '11.5'},\n",
      "          {'bio_reference_range': '',\n",
      "           'lab_test_out_of_range': False,\n",
      "           'test_name': '5\\nChild up to 1 Year',\n",
      "           'test_unit': '',\n",
      "           'test_value': '12.6'},\n",
      "          {'bio_reference_range': '',\n",
      "           'lab_test_out_of_range': False,\n",
      "           'test_name': '-',\n",
      "           'test_unit': '',\n",
      "           'test_value': '16.0'},\n",
      "          {'bio_reference_range': '',\n",
      "           'lab_test_out_of_range': False,\n",
      "           'test_name': 'infants',\n",
      "           'test_unit': '',\n",
      "           'test_value': '13.5'},\n",
      "          {'bio_reference_range': '',\n",
      "           'lab_test_out_of_range': False,\n",
      "           'test_name': '5\\nPPAR LE SE Ie eNT',\n",
      "           'test_unit': '',\n",
      "           'test_value': '16200'},\n",
      "          {'bio_reference_range': '',\n",
      "           'lab_test_out_of_range': False,\n",
      "           'test_name': 'rs eh TM\\nvw\\n78 Ade\\n18 Lied',\n",
      "           'test_unit': '',\n",
      "           'test_value': '1'},\n",
      "          {'bio_reference_range': '',\n",
      "           'lab_test_out_of_range': False,\n",
      "           'test_name': 'eerie\\nF ATCT BE 40 ro dneys elu Fe\\nBia SINE',\n",
      "           'test_unit': '',\n",
      "           'test_value': '3.09'},\n",
      "          {'bio_reference_range': '',\n",
      "           'lab_test_out_of_range': False,\n",
      "           'test_name': 'eoleb one Gam aint\\nPACKED CELL WORE',\n",
      "           'test_unit': '',\n",
      "           'test_value': '23.9'},\n",
      "          {'bio_reference_range': '',\n",
      "           'lab_test_out_of_range': False,\n",
      "           'test_name': 'GQ) ern\\nr',\n",
      "           'test_unit': '',\n",
      "           'test_value': '1'},\n",
      "          {'bio_reference_range': '',\n",
      "           'lab_test_out_of_range': False,\n",
      "           'test_name': 'Tana',\n",
      "           'test_unit': '',\n",
      "           'test_value': '8'},\n",
      "          {'bio_reference_range': '',\n",
      "           'lab_test_out_of_range': False,\n",
      "           'test_name': 'www thejointhospital in Fi',\n",
      "           'test_unit': '',\n",
      "           'test_value': '3'},\n",
      "          {'bio_reference_range': '',\n",
      "           'lab_test_out_of_range': False,\n",
      "           'test_name': 'thojonthospitatomicial',\n",
      "           'test_unit': '',\n",
      "           'test_value': '4'},\n",
      "          {'bio_reference_range': '',\n",
      "           'lab_test_out_of_range': False,\n",
      "           'test_name': 'gmail com LAIORCHAND',\n",
      "           'test_unit': 'A',\n",
      "           'test_value': '2'}],\n",
      " 'is_success': True}\n"
     ]
    }
   ],
   "source": [
    "image_dir = \"/kaggle/input/lab-reports/lbmaske\"\n",
    "image_files = [os.path.join(image_dir, f) for f in os.listdir(image_dir) if f.lower().endswith(('.png', '.jpg', '.jpeg'))]\n",
    "\n",
    "sample_image = image_files[0]\n",
    "text = extract_text(sample_image)\n",
    "parsed_results = parse_lab_tests(text)\n",
    "\n",
    "from pprint import pprint\n",
    "pprint(parsed_results)\n"
   ]
  },
  {
   "cell_type": "code",
   "execution_count": null,
   "metadata": {
    "trusted": true
   },
   "outputs": [],
   "source": [
    "!pip install -q fastapi uvicorn python-multipart opencv-python pytesseract\n"
   ]
  },
  {
   "cell_type": "code",
   "execution_count": 5,
   "metadata": {
    "execution": {
     "iopub.execute_input": "2025-04-29T07:05:08.104564Z",
     "iopub.status.busy": "2025-04-29T07:05:08.104136Z",
     "iopub.status.idle": "2025-04-29T07:05:08.213554Z",
     "shell.execute_reply": "2025-04-29T07:05:08.211984Z",
     "shell.execute_reply.started": "2025-04-29T07:05:08.104536Z"
    },
    "trusted": true
   },
   "outputs": [
    {
     "ename": "ModuleNotFoundError",
     "evalue": "No module named 'fastapi'",
     "output_type": "error",
     "traceback": [
      "\u001b[0;31m---------------------------------------------------------------------------\u001b[0m",
      "\u001b[0;31mModuleNotFoundError\u001b[0m                       Traceback (most recent call last)",
      "\u001b[0;32m/tmp/ipykernel_352/1066712320.py\u001b[0m in \u001b[0;36m<cell line: 0>\u001b[0;34m()\u001b[0m\n\u001b[1;32m      3\u001b[0m \u001b[0;32mimport\u001b[0m \u001b[0mjson\u001b[0m\u001b[0;34m\u001b[0m\u001b[0;34m\u001b[0m\u001b[0m\n\u001b[1;32m      4\u001b[0m \u001b[0;32mfrom\u001b[0m \u001b[0mtyping\u001b[0m \u001b[0;32mimport\u001b[0m \u001b[0mList\u001b[0m\u001b[0;34m\u001b[0m\u001b[0;34m\u001b[0m\u001b[0m\n\u001b[0;32m----> 5\u001b[0;31m \u001b[0;32mfrom\u001b[0m \u001b[0mfastapi\u001b[0m \u001b[0;32mimport\u001b[0m \u001b[0mFastAPI\u001b[0m\u001b[0;34m,\u001b[0m \u001b[0mFile\u001b[0m\u001b[0;34m,\u001b[0m \u001b[0mUploadFile\u001b[0m\u001b[0;34m\u001b[0m\u001b[0;34m\u001b[0m\u001b[0m\n\u001b[0m\u001b[1;32m      6\u001b[0m \u001b[0;32mfrom\u001b[0m \u001b[0mfastapi\u001b[0m\u001b[0;34m.\u001b[0m\u001b[0mresponses\u001b[0m \u001b[0;32mimport\u001b[0m \u001b[0mJSONResponse\u001b[0m\u001b[0;34m\u001b[0m\u001b[0;34m\u001b[0m\u001b[0m\n\u001b[1;32m      7\u001b[0m \u001b[0;32mfrom\u001b[0m \u001b[0mfastapi\u001b[0m\u001b[0;34m.\u001b[0m\u001b[0mmiddleware\u001b[0m\u001b[0;34m.\u001b[0m\u001b[0mcors\u001b[0m \u001b[0;32mimport\u001b[0m \u001b[0mCORSMiddleware\u001b[0m\u001b[0;34m\u001b[0m\u001b[0;34m\u001b[0m\u001b[0m\n",
      "\u001b[0;31mModuleNotFoundError\u001b[0m: No module named 'fastapi'"
     ]
    }
   ],
   "source": [
    "import os\n",
    "import re\n",
    "import json\n",
    "from typing import List\n",
    "from fastapi import FastAPI, File, UploadFile\n",
    "from fastapi.responses import JSONResponse\n",
    "from fastapi.middleware.cors import CORSMiddleware\n",
    "from pydantic import BaseModel\n",
    "from PIL import Image\n",
    "import pytesseract\n",
    "import cv2\n",
    "import numpy as np\n"
   ]
  },
  {
   "cell_type": "code",
   "execution_count": null,
   "metadata": {
    "trusted": true
   },
   "outputs": [],
   "source": [
    "def extract_text_from_image(image_bytes) -> str:\n",
    "    image = Image.open(image_bytes).convert(\"RGB\")\n",
    "    image_np = np.array(image)\n",
    "    text = pytesseract.image_to_string(image_np)\n",
    "    return text\n",
    "\n",
    "\n",
    "def parse_lab_tests(text: str) -> List[dict]:\n",
    "    lines = text.split(\"\\n\")\n",
    "    results = []\n",
    "\n",
    "    pattern = re.compile(\n",
    "        r\"(?P<test_name>[\\w\\s\\(\\)\\-%]+?)\\s*[:\\-]?\\s*(?P<test_value>\\d+\\.?\\d*)\\s*(?P<unit>[^\\d\\s]+)?\\s*(?P<range>\\(?\\d+\\.?\\d*\\s*[-–]\\s*\\d+\\.?\\d*\\)?)\"\n",
    "    )\n",
    "\n",
    "    for line in lines:\n",
    "        match = pattern.search(line)\n",
    "        if match:\n",
    "            test_name = match.group(\"test_name\").strip()\n",
    "            test_value = float(match.group(\"test_value\"))\n",
    "            unit = match.group(\"unit\") or \"\"\n",
    "            range_text = match.group(\"range\").replace(\"(\", \"\").replace(\")\", \"\").replace(\"–\", \"-\")\n",
    "            try:\n",
    "                lower, upper = map(float, range_text.split(\"-\"))\n",
    "                out_of_range = not (lower <= test_value <= upper)\n",
    "                result = {\n",
    "                    \"test_name\": test_name.upper(),\n",
    "                    \"test_value\": str(test_value),\n",
    "                    \"bio_reference_range\": f\"{lower}-{upper}\",\n",
    "                    \"test_unit\": unit,\n",
    "                    \"lab_test_out_of_range\": out_of_range\n",
    "                }\n",
    "                results.append(result)\n",
    "            except:\n",
    "                continue\n",
    "\n",
    "    return results\n"
   ]
  },
  {
   "cell_type": "code",
   "execution_count": null,
   "metadata": {
    "trusted": true
   },
   "outputs": [],
   "source": [
    "app = FastAPI()\n",
    "\n",
    "# Allow CORS for testing in browser\n",
    "app.add_middleware(\n",
    "    CORSMiddleware,\n",
    "    allow_origins=[\"*\"],\n",
    "    allow_credentials=True,\n",
    "    allow_methods=[\"*\"],\n",
    "    allow_headers=[\"*\"],\n",
    ")\n",
    "\n",
    "\n",
    "@app.post(\"/get-lab-tests\")\n",
    "async def get_lab_tests(file: UploadFile = File(...)):\n",
    "    try:\n",
    "        contents = await file.read()\n",
    "        from io import BytesIO\n",
    "        text = extract_text_from_image(BytesIO(contents))\n",
    "        data = parse_lab_tests(text)\n",
    "        return JSONResponse(content={\"is_success\": True, \"data\": data})\n",
    "    except Exception as e:\n",
    "        return JSONResponse(content={\"is_success\": False, \"error\": str(e)})\n"
   ]
  },
  {
   "cell_type": "code",
   "execution_count": null,
   "metadata": {
    "trusted": true
   },
   "outputs": [],
   "source": [
    "from pathlib import Path\n",
    "\n",
    "img_path = Path(\"/kaggle/input/lab-reports/lbmaske\")  # Change if needed\n",
    "sample_image = next(img_path.glob(\"*.jpg\"))  # or .png\n",
    "\n",
    "with open(sample_image, \"rb\") as f:\n",
    "    text = extract_text_from_image(f)\n",
    "    result = parse_lab_tests(text)\n",
    "\n",
    "import pprint\n",
    "pprint.pprint({\"is_success\": True, \"data\": result})\n"
   ]
  }
 ],
 "metadata": {
  "kaggle": {
   "accelerator": "none",
   "dataSources": [
    {
     "datasetId": 7281238,
     "sourceId": 11608525,
     "sourceType": "datasetVersion"
    }
   ],
   "dockerImageVersionId": 31012,
   "isGpuEnabled": false,
   "isInternetEnabled": false,
   "language": "python",
   "sourceType": "notebook"
  },
  "kernelspec": {
   "display_name": "Python 3",
   "language": "python",
   "name": "python3"
  },
  "language_info": {
   "codemirror_mode": {
    "name": "ipython",
    "version": 3
   },
   "file_extension": ".py",
   "mimetype": "text/x-python",
   "name": "python",
   "nbconvert_exporter": "python",
   "pygments_lexer": "ipython3",
   "version": "3.11.11"
  }
 },
 "nbformat": 4,
 "nbformat_minor": 4
}
